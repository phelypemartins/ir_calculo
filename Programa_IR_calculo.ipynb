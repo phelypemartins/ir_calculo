{
  "nbformat": 4,
  "nbformat_minor": 0,
  "metadata": {
    "colab": {
      "provenance": [],
      "authorship_tag": "ABX9TyNVYRMzcG0AUVw/iyxsLaI0",
      "include_colab_link": true
    },
    "kernelspec": {
      "name": "python3",
      "display_name": "Python 3"
    },
    "language_info": {
      "name": "python"
    }
  },
  "cells": [
    {
      "cell_type": "markdown",
      "metadata": {
        "id": "view-in-github",
        "colab_type": "text"
      },
      "source": [
        "<a href=\"https://colab.research.google.com/github/phelypemartins/ir_calculo/blob/main/Programa_IR_calculo.ipynb\" target=\"_parent\"><img src=\"https://colab.research.google.com/assets/colab-badge.svg\" alt=\"Open In Colab\"/></a>"
      ]
    },
    {
      "cell_type": "code",
      "execution_count": null,
      "metadata": {
        "id": "_mDw-0f82EI2"
      },
      "outputs": [],
      "source": [
        "# Importação da biblioteca\n",
        "import datetime\n",
        "\n",
        "# ▼ input da informação de período (MM/AAAA)\n",
        "from typing_extensions import dataclass_transform\n",
        "def obter_data():\n",
        "  valor_data = input('Digite o mês e o ano no formato MM/AAAA: ')\n",
        "\n",
        "  try:\n",
        "    data = datetime.datetime.strptime(valor_data,'%m/%Y')\n",
        "    return data\n",
        "  except ValueError:\n",
        "    print('Digite a data no formato correto. Use MM/AAAA.')\n",
        "    return obter_data()\n",
        "\n",
        "# ▼ Definindo as datas limites, de acordo com as tabelas do IR.\n",
        "data_usuario = obter_data()\n",
        "data_limite1 = (2023, 4)\n",
        "data_limite2 = (2024, 1)\n",
        "#data_limite3 = (2024, 2)\n",
        "\n",
        "# ▼ Interação com o usuário para que o usuário possa inputar as informações relevantes. Utilizei o \"replace\" para substituir a vírgula por ponto já que o python não lê vírgulas.\n",
        "valor_ir = input('Digite o valor do imposto de renda: ').replace(',','.')\n",
        "porc_ir = input('Digite a porcentagem do imposto de renda: ').replace(',','.')\n",
        "\n",
        "# ▼ O usuário deve digitar todos os valores correspondentes as solicitações, caso contrário, o programa retornará uma mensagem de erro.\n",
        "try:\n",
        "  valor_ir = float(valor_ir)\n",
        "  porc_ir = float(porc_ir)\n",
        "except ValueError:\n",
        "  print('Erro. Certifique-se de digitar os valores corretos')\n",
        "  exit(1)\n",
        "\n",
        "# ▼ Foram criados 3 dicionários, 1 para cada tabela de IR. Essas tabelas são disponibilizadas pela RFB.\n",
        "# ▼ Até 04/2023\n",
        "calculo_tabela1 = {\n",
        "    27.5: lambda valor_ir: (valor_ir + 869.36) / 0.275,\n",
        "    22.5: lambda valor_ir: (valor_ir + 636.13) / 0.225,\n",
        "    15: lambda valor_ir: (valor_ir + 354.80) / 0.15,\n",
        "    7.5: lambda valor_ir: (valor_ir + 142.80) / 0.075\n",
        "}\n",
        "\n",
        "# ▼ De 05/2023 até 01/2024\n",
        "calculo_tabela2 = {\n",
        "    27.5: lambda valor_ir: (valor_ir + 884.96) / 0.275,\n",
        "    22.5: lambda valor_ir: (valor_ir + 651.73) / 0.225,\n",
        "    15: lambda valor_ir: (valor_ir + 370.40) / 0.15,\n",
        "    7.5: lambda valor_ir: (valor_ir + 158.40) / 0.075\n",
        "}\n",
        "\n",
        "# ▼ De 02/2024 em diante\n",
        "calculo_tabela3 = {\n",
        "    27.5: lambda valor_ir: (valor_ir + 896.00) / 0.275,\n",
        "    22.5: lambda valor_ir: (valor_ir + 662.77) / 0.225,\n",
        "    15: lambda valor_ir: (valor_ir + 381.44) / 0.15,\n",
        "    7.5: lambda valor_ir: (valor_ir + 169.44) / 0.075\n",
        "}\n",
        "\n",
        "# Comparação entre a data_usuario e data_limite\n",
        "if (data_usuario.year,data_usuario.month) <= data_limite1:\n",
        "  calculo = calculo_tabela1\n",
        "elif data_limite1 < (data_usuario.year,data_usuario.month) <= data_limite2:\n",
        "  calculo = calculo_tabela2\n",
        "else:\n",
        "  calculo = calculo_tabela3\n",
        "\n",
        "# Verificando se o valor da porcentagem está dentro da respectiva tabela, visto que o código já verificou a data digitada e direcionou a devida tabela.\n",
        "if porc_ir in calculo:\n",
        "  resultado = calculo[porc_ir](valor_ir)\n",
        "  print(f'O valor final é {resultado:.2f}')\n",
        "else:\n",
        "  print('erro')\n",
        "\n",
        "\n",
        "\n",
        "\n",
        "\n"
      ]
    }
  ]
}